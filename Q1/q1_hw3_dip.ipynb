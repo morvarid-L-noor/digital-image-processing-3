{
  "nbformat": 4,
  "nbformat_minor": 0,
  "metadata": {
    "colab": {
      "name": "q1-hw3-dip.ipynb",
      "provenance": [],
      "collapsed_sections": []
    },
    "kernelspec": {
      "name": "python3",
      "display_name": "Python 3"
    },
    "language_info": {
      "name": "python"
    }
  },
  "cells": [
    {
      "cell_type": "code",
      "metadata": {
        "id": "D3ucoMv42SKI"
      },
      "source": [
        "import numpy as np\n",
        "import cv2\n",
        "import matplotlib.pyplot as plt\n"
      ],
      "execution_count": null,
      "outputs": []
    },
    {
      "cell_type": "code",
      "metadata": {
        "id": "siEpKziY1kSF"
      },
      "source": [
        "img = np.array([[0, 0 , 10 , 10 , 0],[0 , 10 , 20 , 20 , 10],[0 , 10 ,20,20, 10],[0 ,0, 10 , 10,0],[0,0,0,0,0]])\n"
      ],
      "execution_count": null,
      "outputs": []
    },
    {
      "cell_type": "code",
      "metadata": {
        "id": "o7Oay82g2xs4"
      },
      "source": [
        "# smoothing 1  :------------------------------------------------------------------------\n",
        "\n",
        "kernel_size = 3\n",
        "m, n = img.shape\n",
        "smooth1 = np.zeros([m, n])\n",
        "margin = int((kernel_size-1)/2)\n",
        "down =-margin\n",
        "up = margin\n",
        "\n",
        "\n",
        "mask = np.ones([kernel_size, kernel_size], dtype = int)\n",
        "mask = mask / kernel_size**2\n",
        "for i in range(1, m-margin):\n",
        "  for j in range(1, n-margin):\n",
        "    sum = 0\n",
        "    for x in range(down,up+1):\n",
        "      for y in range(down,up+1):\n",
        "        sum += (img[i+x, j+y]*mask[up+x, up+y])\n",
        "    smooth1[i, j]= sum"
      ],
      "execution_count": null,
      "outputs": []
    },
    {
      "cell_type": "code",
      "metadata": {
        "colab": {
          "base_uri": "https://localhost:8080/"
        },
        "id": "5asJeqmV3GrS",
        "outputId": "c194dfbd-ff32-4fc0-c96b-3e6d7da1872d"
      },
      "source": [
        "print('first smoothing filter : \\n'+ str(smooth1))"
      ],
      "execution_count": null,
      "outputs": [
        {
          "output_type": "stream",
          "text": [
            "first smoothing filter : \n",
            "[[ 0.          0.          0.          0.          0.        ]\n",
            " [ 0.          7.77777778 13.33333333 13.33333333  0.        ]\n",
            " [ 0.          7.77777778 13.33333333 13.33333333  0.        ]\n",
            " [ 0.          4.44444444  7.77777778  7.77777778  0.        ]\n",
            " [ 0.          0.          0.          0.          0.        ]]\n"
          ],
          "name": "stdout"
        }
      ]
    },
    {
      "cell_type": "code",
      "metadata": {
        "id": "YNwCYHkl3JBN"
      },
      "source": [
        "# smoothing 2  :------------------------------------------------------------------------\n",
        "kernel_size = 3\n",
        "m, n = img.shape\n",
        "smooth2 = np.zeros([m, n])\n",
        "margin = int((kernel_size-1)/2)\n",
        "down =-margin\n",
        "up = margin\n",
        "\n",
        "mask = mask = np.array([[1, 2 , 1],[2,4,2],[1, 2 , 1]])\n",
        "mask = mask / 16\n",
        "for i in range(1, m-margin):\n",
        "  for j in range(1, n-margin):\n",
        "    sum = 0\n",
        "    for x in range(down,up+1):\n",
        "      for y in range(down,up+1):\n",
        "        sum += (img[i+x, j+y]*mask[up+x, up+y])\n",
        "    smooth2[i, j]= sum"
      ],
      "execution_count": null,
      "outputs": []
    },
    {
      "cell_type": "code",
      "metadata": {
        "colab": {
          "base_uri": "https://localhost:8080/"
        },
        "id": "-if5ByEP3q4e",
        "outputId": "b04c43b8-6cdd-4817-a70b-19d61593db75"
      },
      "source": [
        "print('second smoothing filter : \\n'+ str(smooth2))\n"
      ],
      "execution_count": null,
      "outputs": [
        {
          "output_type": "stream",
          "text": [
            "second smoothing filter : \n",
            "[[ 0.     0.     0.     0.     0.   ]\n",
            " [ 0.     8.125 15.    15.     0.   ]\n",
            " [ 0.     8.125 15.    15.     0.   ]\n",
            " [ 0.     3.75   8.125  8.125  0.   ]\n",
            " [ 0.     0.     0.     0.     0.   ]]\n"
          ],
          "name": "stdout"
        }
      ]
    },
    {
      "cell_type": "code",
      "metadata": {
        "id": "y94YR6u54jd-"
      },
      "source": [
        "# sharpen 1  :------------------------------------------------------------------------\n",
        "\n",
        "kernel_size = 3\n",
        "m, n = img.shape\n",
        "sharpen1 = np.zeros([m, n])\n",
        "margin = int((kernel_size-1)/2)\n",
        "down =-margin\n",
        "up = margin\n",
        "\n",
        "mask = mask = np.array([[-1, -1 , -1],[-1,9,-1],[-1, -1 , -1]])\n",
        "\n",
        "for i in range(1, m-margin):\n",
        "  for j in range(1, n-margin):\n",
        "    sum = 0\n",
        "    for x in range(down,up+1):\n",
        "      for y in range(down,up+1):\n",
        "        sum += (img[i+x, j+y]*mask[up+x, up+y])\n",
        "    sharpen1[i, j]= sum\n",
        "\n"
      ],
      "execution_count": null,
      "outputs": []
    },
    {
      "cell_type": "code",
      "metadata": {
        "colab": {
          "base_uri": "https://localhost:8080/"
        },
        "id": "7kCK8-cVMrAA",
        "outputId": "923cdb5d-a7da-4fca-fdf2-ad056eb573e7"
      },
      "source": [
        "print('first sharpening filter : \\n'+ str(sharpen1))\n"
      ],
      "execution_count": null,
      "outputs": [
        {
          "output_type": "stream",
          "text": [
            "first sharpening filter : \n",
            "[[ 0.          0.          0.          0.          0.        ]\n",
            " [ 0.          3.33333333  8.88888889  8.88888889  0.        ]\n",
            " [ 0.          3.33333333  8.88888889  8.88888889  0.        ]\n",
            " [ 0.         -4.44444444  3.33333333  3.33333333  0.        ]\n",
            " [ 0.          0.          0.          0.          0.        ]]\n"
          ],
          "name": "stdout"
        }
      ]
    },
    {
      "cell_type": "code",
      "metadata": {
        "id": "5CdUKVqy5R0c"
      },
      "source": [
        "# sharpen 2  :------------------------------------------------------------------------\n",
        "\n",
        "kernel_size = 3\n",
        "m, n = img.shape\n",
        "sharpen2 = np.zeros([m, n])\n",
        "margin = int((kernel_size-1)/2)\n",
        "down =-margin\n",
        "up = margin\n",
        "\n",
        "mask = mask = np.array([[0, -1 , 0],[-1,5,-1],[0, -1 , 0]])\n",
        "\n",
        "for i in range(1, m-margin):\n",
        "  for j in range(1, n-margin):\n",
        "    sum = 0\n",
        "    for x in range(down,up+1):\n",
        "      for y in range(down,up+1):\n",
        "        sum += (img[i+x, j+y]*mask[up+x, up+y])\n",
        "    sharpen2[i, j]= sum\n"
      ],
      "execution_count": null,
      "outputs": []
    },
    {
      "cell_type": "code",
      "metadata": {
        "id": "GXTlVpHkM13P",
        "colab": {
          "base_uri": "https://localhost:8080/"
        },
        "outputId": "b506596b-0449-4f3f-b175-e2d671018940"
      },
      "source": [
        "print('second sharpening filter : \\n'+ str(sharpen2))\n"
      ],
      "execution_count": null,
      "outputs": [
        {
          "output_type": "stream",
          "text": [
            "second sharpening filter : \n",
            "[[  0.   0.   0.   0.   0.]\n",
            " [  0.  20.  40.  40.   0.]\n",
            " [  0.  20.  40.  40.   0.]\n",
            " [  0. -20.  20.  20.   0.]\n",
            " [  0.   0.   0.   0.   0.]]\n"
          ],
          "name": "stdout"
        }
      ]
    }
  ]
}